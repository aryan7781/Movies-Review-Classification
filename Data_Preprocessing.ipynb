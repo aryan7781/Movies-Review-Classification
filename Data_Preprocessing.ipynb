{
  "metadata": {
    "kernelspec": {
      "language": "python",
      "display_name": "Python 3",
      "name": "python3"
    },
    "language_info": {
      "name": "python",
      "version": "3.7.12",
      "mimetype": "text/x-python",
      "codemirror_mode": {
        "name": "ipython",
        "version": 3
      },
      "pygments_lexer": "ipython3",
      "nbconvert_exporter": "python",
      "file_extension": ".py"
    },
    "colab": {
      "name": "Data Preprocessing.ipynb",
      "provenance": [],
      "collapsed_sections": []
    },
    "accelerator": "TPU",
    "gpuClass": "standard"
  },
  "nbformat_minor": 0,
  "nbformat": 4,
  "cells": [
    {
      "cell_type": "markdown",
      "source": [
        "# <center> **Movie Review Classification - Transformer Encoder**</center>\n",
        "<center>\n",
        "    <img src = \"https://repository-images.githubusercontent.com/399420811/c477ff5c-8d89-4f48-a038-3ef7d9f25e72\">\n",
        "         </img>\n",
        "</center\n",
        "    "
      ],
      "metadata": {
        "id": "EuMzr_Co2Xh-"
      }
    },
    {
      "cell_type": "markdown",
      "source": [
        "### Installing Dependencies unavailable in the environment"
      ],
      "metadata": {
        "id": "8dXv5-2l2XiB"
      }
    },
    {
      "cell_type": "code",
      "source": [
        "!pip install contractions\n",
        "!pip install -q kaggle"
      ],
      "metadata": {
        "execution": {
          "iopub.status.busy": "2022-07-14T12:18:37.200480Z",
          "iopub.execute_input": "2022-07-14T12:18:37.200931Z",
          "iopub.status.idle": "2022-07-14T12:18:50.289366Z",
          "shell.execute_reply.started": "2022-07-14T12:18:37.200808Z",
          "shell.execute_reply": "2022-07-14T12:18:50.288111Z"
        },
        "trusted": true,
        "colab": {
          "base_uri": "https://localhost:8080/"
        },
        "id": "Mfjsxe3I2XiC",
        "outputId": "fd714b4f-4717-4c09-a5ff-c8d92ec6b791"
      },
      "execution_count": 61,
      "outputs": [
        {
          "output_type": "stream",
          "name": "stdout",
          "text": [
            "Looking in indexes: https://pypi.org/simple, https://us-python.pkg.dev/colab-wheels/public/simple/\n",
            "Requirement already satisfied: contractions in /usr/local/lib/python3.7/dist-packages (0.1.72)\n",
            "Requirement already satisfied: textsearch>=0.0.21 in /usr/local/lib/python3.7/dist-packages (from contractions) (0.0.21)\n",
            "Requirement already satisfied: anyascii in /usr/local/lib/python3.7/dist-packages (from textsearch>=0.0.21->contractions) (0.3.1)\n",
            "Requirement already satisfied: pyahocorasick in /usr/local/lib/python3.7/dist-packages (from textsearch>=0.0.21->contractions) (1.4.4)\n"
          ]
        }
      ]
    },
    {
      "cell_type": "markdown",
      "source": [
        "### Download Necessary Packages"
      ],
      "metadata": {
        "id": "s_5sCZIU2XiD"
      }
    },
    {
      "cell_type": "code",
      "source": [
        "import os\n",
        "from google.colab import files\n",
        "import numpy as np\n",
        "import pandas as pd\n",
        "import tensorflow as tf\n",
        "import matplotlib.pyplot as plt\n",
        "import seaborn as sns\n",
        "\n",
        "from tensorflow.keras.optimizers.schedules import ExponentialDecay\n",
        "from tensorflow.keras.optimizers import Adam\n",
        "\n",
        "import nltk\n",
        "from collections import Counter\n",
        "import contractions\n",
        "import re\n",
        "from nltk import sent_tokenize\n",
        "from nltk.corpus import stopwords\n",
        "from tensorflow.keras.layers import TextVectorization\n",
        "from tensorflow.keras.preprocessing.sequence import pad_sequences\n"
      ],
      "metadata": {
        "_uuid": "8f2839f25d086af736a60e9eeb907d3b93b6e0e5",
        "_cell_guid": "b1076dfc-b9ad-4769-8c92-a6c4dae69d19",
        "execution": {
          "iopub.status.busy": "2022-07-14T12:18:50.291536Z",
          "iopub.execute_input": "2022-07-14T12:18:50.291839Z",
          "iopub.status.idle": "2022-07-14T12:19:01.821556Z",
          "shell.execute_reply.started": "2022-07-14T12:18:50.291809Z",
          "shell.execute_reply": "2022-07-14T12:19:01.820282Z"
        },
        "trusted": true,
        "id": "4eWpWtKH2XiD"
      },
      "execution_count": 62,
      "outputs": []
    },
    {
      "cell_type": "markdown",
      "source": [
        "### Setting Up Environment to get Kaggle Dataset in Colab"
      ],
      "metadata": {
        "id": "EsSie3PF3ENR"
      }
    },
    {
      "cell_type": "code",
      "source": [
        "!mkdir ~/.kaggle\n",
        "!cp kaggle.json ~/.kaggle/\n",
        "!chmod 600 ~/.kaggle/kaggle.json\n",
        "!kaggle datasets list"
      ],
      "metadata": {
        "colab": {
          "base_uri": "https://localhost:8080/"
        },
        "id": "NzHs5Qn63DkJ",
        "outputId": "79098e37-5f81-4c08-f995-8c164c0db867"
      },
      "execution_count": 63,
      "outputs": [
        {
          "output_type": "stream",
          "name": "stdout",
          "text": [
            "mkdir: cannot create directory ‘/root/.kaggle’: File exists\n",
            "ref                                                                title                                                size  lastUpdated          downloadCount  voteCount  usabilityRating  \n",
            "-----------------------------------------------------------------  --------------------------------------------------  -----  -------------------  -------------  ---------  ---------------  \n",
            "victorsoeiro/netflix-tv-shows-and-movies                           Netflix TV Shows and Movies                           2MB  2022-05-15 00:01:23          15598        453  1.0              \n",
            "ruchi798/data-science-job-salaries                                 Data Science Job Salaries                             7KB  2022-06-15 08:59:12           4458        158  1.0              \n",
            "zusmani/petrolgas-prices-worldwide                                 Petrol/Gas Prices Worldwide                          10KB  2022-06-24 01:25:33           1935         91  1.0              \n",
            "imoore/age-dataset                                                 Age dataset: life, work, and death of 1.22M people   34MB  2022-06-07 08:56:52           2736        104  1.0              \n",
            "ramjasmaurya/1-gb-internet-price                                   Internet Prices around 200+ countries in 2022.       12KB  2022-07-04 10:54:33            825         33  1.0              \n",
            "surajjha101/bigbasket-entire-product-list-28k-datapoints           BigBasket Entire Product List (~28K datapoints)       6MB  2022-06-22 12:51:18           1305         67  1.0              \n",
            "sameepvani/nasa-nearest-earth-objects                              NASA - Nearest Earth Objects                          7MB  2022-06-17 02:32:18           2001         92  1.0              \n",
            "devansodariya/student-performance-data                             Student Performance Dataset                           7KB  2022-05-26 13:55:09           9107        240  0.9705882        \n",
            "jimschacko/airlines-dataset-to-predict-a-delay                     Airlines Dataset to predict a delay                   6MB  2022-06-21 05:45:44           1736         48  1.0              \n",
            "dansbecker/melbourne-housing-snapshot                              Melbourne Housing Snapshot                          451KB  2018-06-05 12:52:24          90827       1106  0.7058824        \n",
            "deepcontractor/car-price-prediction-challenge                      Car Price Prediction Challenge                      429KB  2022-07-06 11:38:32            392         37  0.9411765        \n",
            "iamsouravbanerjee/nifty500-stocks-dataset                          Stock Market Dataset (NIFTY-500)                     35KB  2022-07-11 12:16:28            472         43  1.0              \n",
            "azminetoushikwasi/ott-video-streaming-platforms-revenue-and-users  OTT, Video Streaming Platforms - Revenue and Users   11KB  2022-07-01 08:30:57            686         30  1.0              \n",
            "datasnaek/youtube-new                                              Trending YouTube Video Statistics                   201MB  2019-06-03 00:56:47         178932       4593  0.7941176        \n",
            "zynicide/wine-reviews                                              Wine Reviews                                         51MB  2017-11-27 17:08:04         162886       3335  0.7941176        \n",
            "iabhishekofficial/mobile-price-classification                      Mobile Price Classification                          71KB  2018-01-28 08:44:24          92383       1247  0.7058824        \n",
            "rtatman/188-million-us-wildfires                                   1.88 Million US Wildfires                           168MB  2020-05-12 21:03:49          20669       1016  0.8235294        \n",
            "residentmario/ramen-ratings                                        Ramen Ratings                                        40KB  2018-01-11 16:04:39          34756        792  0.7058824        \n",
            "datasnaek/chess                                                    Chess Game Dataset (Lichess)                          3MB  2017-09-04 03:09:09          30416       1017  0.8235294        \n",
            "dansbecker/powerlifting-database                                   powerlifting-database                                 9MB  2019-04-30 21:07:41           4888         59  0.5882353        \n",
            "Error in atexit._run_exitfuncs:\n",
            "Traceback (most recent call last):\n",
            "  File \"/usr/lib/python3.7/multiprocessing/util.py\", line 300, in _run_finalizers\n",
            "    finalizer()\n",
            "  File \"/usr/lib/python3.7/multiprocessing/util.py\", line 224, in __call__\n",
            "    res = self._callback(*self._args, **self._kwargs)\n",
            "  File \"/usr/lib/python3.7/multiprocessing/pool.py\", line 594, in _terminate_pool\n",
            "    worker_handler.join()\n",
            "  File \"/usr/lib/python3.7/threading.py\", line 1044, in join\n",
            "    self._wait_for_tstate_lock()\n",
            "  File \"/usr/lib/python3.7/threading.py\", line 1060, in _wait_for_tstate_lock\n",
            "    elif lock.acquire(block, timeout):\n",
            "KeyboardInterrupt\n"
          ]
        }
      ]
    },
    {
      "cell_type": "code",
      "source": [
        "!kaggle datasets download \"lakshmi25npathi/imdb-dataset-of-50k-movie-reviews\"\n",
        "!unzip /content/imdb-dataset-of-50k-movie-reviews.zip"
      ],
      "metadata": {
        "colab": {
          "base_uri": "https://localhost:8080/"
        },
        "id": "W2c3Zf4K3nRy",
        "outputId": "9ffeb650-9f08-4c9c-95be-dd8377a4467c"
      },
      "execution_count": 64,
      "outputs": [
        {
          "output_type": "stream",
          "name": "stdout",
          "text": [
            "Downloading imdb-dataset-of-50k-movie-reviews.zip to /content\n",
            " 35% 9.00M/25.7M [00:00<00:00, 27.6MB/s]\n",
            "100% 25.7M/25.7M [00:00<00:00, 64.4MB/s]\n",
            "Archive:  /content/imdb-dataset-of-50k-movie-reviews.zip\n",
            "replace IMDB Dataset.csv? [y]es, [n]o, [A]ll, [N]one, [r]ename: "
          ]
        }
      ]
    },
    {
      "cell_type": "markdown",
      "source": [
        "### Set Constants to Maintain Consistensy over the notebook"
      ],
      "metadata": {
        "id": "w0RH9XhG2XiD"
      }
    },
    {
      "cell_type": "code",
      "source": [
        "np.random.RandomState(7)\n",
        "\n",
        "title_fd = {\n",
        "    'fontsize': 20,\n",
        "    'font':'SERIF'\n",
        "}\n",
        "label_fd = {\n",
        "    'fontsize': 10,\n",
        "    'font': 'SERIF'\n",
        "}\n",
        "\n",
        "nltk.download(\"stopwords\")\n",
        "stopwords_ = stopwords.words('english')\n",
        "print(stopwords_)"
      ],
      "metadata": {
        "execution": {
          "iopub.status.busy": "2022-07-14T12:19:01.822705Z",
          "iopub.execute_input": "2022-07-14T12:19:01.823277Z",
          "iopub.status.idle": "2022-07-14T12:19:01.838466Z",
          "shell.execute_reply.started": "2022-07-14T12:19:01.823246Z",
          "shell.execute_reply": "2022-07-14T12:19:01.837643Z"
        },
        "trusted": true,
        "colab": {
          "base_uri": "https://localhost:8080/"
        },
        "id": "EceQTeEU2XiD",
        "outputId": "e4ebfbfb-75ac-4d17-acb2-debb2e20192f"
      },
      "execution_count": 65,
      "outputs": [
        {
          "output_type": "stream",
          "name": "stdout",
          "text": [
            "['i', 'me', 'my', 'myself', 'we', 'our', 'ours', 'ourselves', 'you', \"you're\", \"you've\", \"you'll\", \"you'd\", 'your', 'yours', 'yourself', 'yourselves', 'he', 'him', 'his', 'himself', 'she', \"she's\", 'her', 'hers', 'herself', 'it', \"it's\", 'its', 'itself', 'they', 'them', 'their', 'theirs', 'themselves', 'what', 'which', 'who', 'whom', 'this', 'that', \"that'll\", 'these', 'those', 'am', 'is', 'are', 'was', 'were', 'be', 'been', 'being', 'have', 'has', 'had', 'having', 'do', 'does', 'did', 'doing', 'a', 'an', 'the', 'and', 'but', 'if', 'or', 'because', 'as', 'until', 'while', 'of', 'at', 'by', 'for', 'with', 'about', 'against', 'between', 'into', 'through', 'during', 'before', 'after', 'above', 'below', 'to', 'from', 'up', 'down', 'in', 'out', 'on', 'off', 'over', 'under', 'again', 'further', 'then', 'once', 'here', 'there', 'when', 'where', 'why', 'how', 'all', 'any', 'both', 'each', 'few', 'more', 'most', 'other', 'some', 'such', 'no', 'nor', 'not', 'only', 'own', 'same', 'so', 'than', 'too', 'very', 's', 't', 'can', 'will', 'just', 'don', \"don't\", 'should', \"should've\", 'now', 'd', 'll', 'm', 'o', 're', 've', 'y', 'ain', 'aren', \"aren't\", 'couldn', \"couldn't\", 'didn', \"didn't\", 'doesn', \"doesn't\", 'hadn', \"hadn't\", 'hasn', \"hasn't\", 'haven', \"haven't\", 'isn', \"isn't\", 'ma', 'mightn', \"mightn't\", 'mustn', \"mustn't\", 'needn', \"needn't\", 'shan', \"shan't\", 'shouldn', \"shouldn't\", 'wasn', \"wasn't\", 'weren', \"weren't\", 'won', \"won't\", 'wouldn', \"wouldn't\"]\n"
          ]
        },
        {
          "output_type": "stream",
          "name": "stderr",
          "text": [
            "[nltk_data] Downloading package stopwords to /root/nltk_data...\n",
            "[nltk_data]   Package stopwords is already up-to-date!\n"
          ]
        }
      ]
    },
    {
      "cell_type": "code",
      "source": [
        "# We create a custom list of stopwords\n",
        "# We choose to keep words like not or other negating words, that might have important meaning to out text.\n",
        "stopwords_ = ['i', 'me', 'my', 'myself', 'we', 'our', 'ours', 'ourselves', 'you', \"you're\", \"you've\",\n",
        "              \"you'll\", \"you'd\", 'your', 'yours', 'yourself', 'yourselves', 'he', 'him', 'his', 'himself',\n",
        "              'she', \"she's\", 'her', 'hers', 'herself', 'it', \"it's\", 'its', 'itself', 'they', 'them',\n",
        "              'their', 'theirs', 'themselves', 'what', 'which', 'who', 'whom', 'this', 'that', \"that'll\",\n",
        "              'these', 'those', 'am', 'is', 'are', 'was', 'were', 'be', 'been', 'being', 'have', 'has', 'had',\n",
        "              'having', 'do', 'does', 'did', 'doing', 'a', 'an', 'the', 'and', 'but', 'if', 'or',\n",
        "              'because', 'as', 'until', 'while', 'of', 'at', 'by', 'for', 'with', 'about', 'against',\n",
        "              'between', 'into', 'through', 'during', 'before', 'after', 'above', 'below', 'to', 'from',\n",
        "              'up', 'down', 'in', 'out', 'on', 'off', 'over', 'under', 'again', 'further', 'then', 'once',\n",
        "              'here', 'there', 'when', 'where', 'why', 'how', 'all', 'any', 'both', 'each', 'few', 'more',\n",
        "              'most', 'other', 'some', 'such']\n",
        "stopwords_pattern = re.compile(r'\\b(' + r'|'.join(stopwords_) + r')\\b\\s*')"
      ],
      "metadata": {
        "execution": {
          "iopub.status.busy": "2022-07-14T12:19:01.840615Z",
          "iopub.execute_input": "2022-07-14T12:19:01.841279Z",
          "iopub.status.idle": "2022-07-14T12:19:01.861138Z",
          "shell.execute_reply.started": "2022-07-14T12:19:01.841245Z",
          "shell.execute_reply": "2022-07-14T12:19:01.860199Z"
        },
        "trusted": true,
        "id": "FQibd4o82XiE"
      },
      "execution_count": 66,
      "outputs": []
    },
    {
      "cell_type": "code",
      "source": [
        "df = pd.read_csv('./IMDB Dataset.csv')\n",
        "df.head()"
      ],
      "metadata": {
        "execution": {
          "iopub.status.busy": "2022-07-14T12:19:01.862397Z",
          "iopub.execute_input": "2022-07-14T12:19:01.862726Z",
          "iopub.status.idle": "2022-07-14T12:19:03.393004Z",
          "shell.execute_reply.started": "2022-07-14T12:19:01.862697Z",
          "shell.execute_reply": "2022-07-14T12:19:03.391932Z"
        },
        "trusted": true,
        "colab": {
          "base_uri": "https://localhost:8080/",
          "height": 206
        },
        "id": "2yoMOUsg2XiE",
        "outputId": "3604bc27-4b0c-4d41-dd2b-fd29227143eb"
      },
      "execution_count": 67,
      "outputs": [
        {
          "output_type": "execute_result",
          "data": {
            "text/plain": [
              "                                              review sentiment\n",
              "0  One of the other reviewers has mentioned that ...  positive\n",
              "1  A wonderful little production. <br /><br />The...  positive\n",
              "2  I thought this was a wonderful way to spend ti...  positive\n",
              "3  Basically there's a family where a little boy ...  negative\n",
              "4  Petter Mattei's \"Love in the Time of Money\" is...  positive"
            ],
            "text/html": [
              "\n",
              "  <div id=\"df-85558ca4-910e-4372-9fcf-863407b0bb32\">\n",
              "    <div class=\"colab-df-container\">\n",
              "      <div>\n",
              "<style scoped>\n",
              "    .dataframe tbody tr th:only-of-type {\n",
              "        vertical-align: middle;\n",
              "    }\n",
              "\n",
              "    .dataframe tbody tr th {\n",
              "        vertical-align: top;\n",
              "    }\n",
              "\n",
              "    .dataframe thead th {\n",
              "        text-align: right;\n",
              "    }\n",
              "</style>\n",
              "<table border=\"1\" class=\"dataframe\">\n",
              "  <thead>\n",
              "    <tr style=\"text-align: right;\">\n",
              "      <th></th>\n",
              "      <th>review</th>\n",
              "      <th>sentiment</th>\n",
              "    </tr>\n",
              "  </thead>\n",
              "  <tbody>\n",
              "    <tr>\n",
              "      <th>0</th>\n",
              "      <td>One of the other reviewers has mentioned that ...</td>\n",
              "      <td>positive</td>\n",
              "    </tr>\n",
              "    <tr>\n",
              "      <th>1</th>\n",
              "      <td>A wonderful little production. &lt;br /&gt;&lt;br /&gt;The...</td>\n",
              "      <td>positive</td>\n",
              "    </tr>\n",
              "    <tr>\n",
              "      <th>2</th>\n",
              "      <td>I thought this was a wonderful way to spend ti...</td>\n",
              "      <td>positive</td>\n",
              "    </tr>\n",
              "    <tr>\n",
              "      <th>3</th>\n",
              "      <td>Basically there's a family where a little boy ...</td>\n",
              "      <td>negative</td>\n",
              "    </tr>\n",
              "    <tr>\n",
              "      <th>4</th>\n",
              "      <td>Petter Mattei's \"Love in the Time of Money\" is...</td>\n",
              "      <td>positive</td>\n",
              "    </tr>\n",
              "  </tbody>\n",
              "</table>\n",
              "</div>\n",
              "      <button class=\"colab-df-convert\" onclick=\"convertToInteractive('df-85558ca4-910e-4372-9fcf-863407b0bb32')\"\n",
              "              title=\"Convert this dataframe to an interactive table.\"\n",
              "              style=\"display:none;\">\n",
              "        \n",
              "  <svg xmlns=\"http://www.w3.org/2000/svg\" height=\"24px\"viewBox=\"0 0 24 24\"\n",
              "       width=\"24px\">\n",
              "    <path d=\"M0 0h24v24H0V0z\" fill=\"none\"/>\n",
              "    <path d=\"M18.56 5.44l.94 2.06.94-2.06 2.06-.94-2.06-.94-.94-2.06-.94 2.06-2.06.94zm-11 1L8.5 8.5l.94-2.06 2.06-.94-2.06-.94L8.5 2.5l-.94 2.06-2.06.94zm10 10l.94 2.06.94-2.06 2.06-.94-2.06-.94-.94-2.06-.94 2.06-2.06.94z\"/><path d=\"M17.41 7.96l-1.37-1.37c-.4-.4-.92-.59-1.43-.59-.52 0-1.04.2-1.43.59L10.3 9.45l-7.72 7.72c-.78.78-.78 2.05 0 2.83L4 21.41c.39.39.9.59 1.41.59.51 0 1.02-.2 1.41-.59l7.78-7.78 2.81-2.81c.8-.78.8-2.07 0-2.86zM5.41 20L4 18.59l7.72-7.72 1.47 1.35L5.41 20z\"/>\n",
              "  </svg>\n",
              "      </button>\n",
              "      \n",
              "  <style>\n",
              "    .colab-df-container {\n",
              "      display:flex;\n",
              "      flex-wrap:wrap;\n",
              "      gap: 12px;\n",
              "    }\n",
              "\n",
              "    .colab-df-convert {\n",
              "      background-color: #E8F0FE;\n",
              "      border: none;\n",
              "      border-radius: 50%;\n",
              "      cursor: pointer;\n",
              "      display: none;\n",
              "      fill: #1967D2;\n",
              "      height: 32px;\n",
              "      padding: 0 0 0 0;\n",
              "      width: 32px;\n",
              "    }\n",
              "\n",
              "    .colab-df-convert:hover {\n",
              "      background-color: #E2EBFA;\n",
              "      box-shadow: 0px 1px 2px rgba(60, 64, 67, 0.3), 0px 1px 3px 1px rgba(60, 64, 67, 0.15);\n",
              "      fill: #174EA6;\n",
              "    }\n",
              "\n",
              "    [theme=dark] .colab-df-convert {\n",
              "      background-color: #3B4455;\n",
              "      fill: #D2E3FC;\n",
              "    }\n",
              "\n",
              "    [theme=dark] .colab-df-convert:hover {\n",
              "      background-color: #434B5C;\n",
              "      box-shadow: 0px 1px 3px 1px rgba(0, 0, 0, 0.15);\n",
              "      filter: drop-shadow(0px 1px 2px rgba(0, 0, 0, 0.3));\n",
              "      fill: #FFFFFF;\n",
              "    }\n",
              "  </style>\n",
              "\n",
              "      <script>\n",
              "        const buttonEl =\n",
              "          document.querySelector('#df-85558ca4-910e-4372-9fcf-863407b0bb32 button.colab-df-convert');\n",
              "        buttonEl.style.display =\n",
              "          google.colab.kernel.accessAllowed ? 'block' : 'none';\n",
              "\n",
              "        async function convertToInteractive(key) {\n",
              "          const element = document.querySelector('#df-85558ca4-910e-4372-9fcf-863407b0bb32');\n",
              "          const dataTable =\n",
              "            await google.colab.kernel.invokeFunction('convertToInteractive',\n",
              "                                                     [key], {});\n",
              "          if (!dataTable) return;\n",
              "\n",
              "          const docLinkHtml = 'Like what you see? Visit the ' +\n",
              "            '<a target=\"_blank\" href=https://colab.research.google.com/notebooks/data_table.ipynb>data table notebook</a>'\n",
              "            + ' to learn more about interactive tables.';\n",
              "          element.innerHTML = '';\n",
              "          dataTable['output_type'] = 'display_data';\n",
              "          await google.colab.output.renderOutput(dataTable, element);\n",
              "          const docLink = document.createElement('div');\n",
              "          docLink.innerHTML = docLinkHtml;\n",
              "          element.appendChild(docLink);\n",
              "        }\n",
              "      </script>\n",
              "    </div>\n",
              "  </div>\n",
              "  "
            ]
          },
          "metadata": {},
          "execution_count": 67
        }
      ]
    },
    {
      "cell_type": "code",
      "source": [
        "df.drop_duplicates(inplace = True, keep = 'first')"
      ],
      "metadata": {
        "execution": {
          "iopub.status.busy": "2022-07-14T12:19:03.394281Z",
          "iopub.execute_input": "2022-07-14T12:19:03.395051Z",
          "iopub.status.idle": "2022-07-14T12:19:03.603295Z",
          "shell.execute_reply.started": "2022-07-14T12:19:03.395019Z",
          "shell.execute_reply": "2022-07-14T12:19:03.602451Z"
        },
        "trusted": true,
        "id": "DTDpvLMO2XiF"
      },
      "execution_count": 68,
      "outputs": []
    },
    {
      "cell_type": "code",
      "source": [
        "df.info()"
      ],
      "metadata": {
        "execution": {
          "iopub.status.busy": "2022-07-14T12:19:03.604525Z",
          "iopub.execute_input": "2022-07-14T12:19:03.605066Z",
          "iopub.status.idle": "2022-07-14T12:19:03.632512Z",
          "shell.execute_reply.started": "2022-07-14T12:19:03.605034Z",
          "shell.execute_reply": "2022-07-14T12:19:03.631338Z"
        },
        "trusted": true,
        "colab": {
          "base_uri": "https://localhost:8080/"
        },
        "id": "N6q3539N2XiF",
        "outputId": "2233bbe8-af74-4d50-bded-ac503db699e3"
      },
      "execution_count": 69,
      "outputs": [
        {
          "output_type": "stream",
          "name": "stdout",
          "text": [
            "<class 'pandas.core.frame.DataFrame'>\n",
            "Int64Index: 49582 entries, 0 to 49999\n",
            "Data columns (total 2 columns):\n",
            " #   Column     Non-Null Count  Dtype \n",
            "---  ------     --------------  ----- \n",
            " 0   review     49582 non-null  object\n",
            " 1   sentiment  49582 non-null  object\n",
            "dtypes: object(2)\n",
            "memory usage: 1.1+ MB\n"
          ]
        }
      ]
    },
    {
      "cell_type": "code",
      "source": [
        "df.describe(include = 'all')"
      ],
      "metadata": {
        "execution": {
          "iopub.status.busy": "2022-07-14T12:19:03.633950Z",
          "iopub.execute_input": "2022-07-14T12:19:03.634364Z",
          "iopub.status.idle": "2022-07-14T12:19:03.728917Z",
          "shell.execute_reply.started": "2022-07-14T12:19:03.634319Z",
          "shell.execute_reply": "2022-07-14T12:19:03.727798Z"
        },
        "trusted": true,
        "colab": {
          "base_uri": "https://localhost:8080/",
          "height": 175
        },
        "id": "E_Ihmedl2XiF",
        "outputId": "a6f10a06-2447-462c-a526-92d581d440b2"
      },
      "execution_count": 70,
      "outputs": [
        {
          "output_type": "execute_result",
          "data": {
            "text/plain": [
              "                                                   review sentiment\n",
              "count                                               49582     49582\n",
              "unique                                              49582         2\n",
              "top     One of the other reviewers has mentioned that ...  positive\n",
              "freq                                                    1     24884"
            ],
            "text/html": [
              "\n",
              "  <div id=\"df-001adb97-fc44-423c-a5c2-01a7d69a60d5\">\n",
              "    <div class=\"colab-df-container\">\n",
              "      <div>\n",
              "<style scoped>\n",
              "    .dataframe tbody tr th:only-of-type {\n",
              "        vertical-align: middle;\n",
              "    }\n",
              "\n",
              "    .dataframe tbody tr th {\n",
              "        vertical-align: top;\n",
              "    }\n",
              "\n",
              "    .dataframe thead th {\n",
              "        text-align: right;\n",
              "    }\n",
              "</style>\n",
              "<table border=\"1\" class=\"dataframe\">\n",
              "  <thead>\n",
              "    <tr style=\"text-align: right;\">\n",
              "      <th></th>\n",
              "      <th>review</th>\n",
              "      <th>sentiment</th>\n",
              "    </tr>\n",
              "  </thead>\n",
              "  <tbody>\n",
              "    <tr>\n",
              "      <th>count</th>\n",
              "      <td>49582</td>\n",
              "      <td>49582</td>\n",
              "    </tr>\n",
              "    <tr>\n",
              "      <th>unique</th>\n",
              "      <td>49582</td>\n",
              "      <td>2</td>\n",
              "    </tr>\n",
              "    <tr>\n",
              "      <th>top</th>\n",
              "      <td>One of the other reviewers has mentioned that ...</td>\n",
              "      <td>positive</td>\n",
              "    </tr>\n",
              "    <tr>\n",
              "      <th>freq</th>\n",
              "      <td>1</td>\n",
              "      <td>24884</td>\n",
              "    </tr>\n",
              "  </tbody>\n",
              "</table>\n",
              "</div>\n",
              "      <button class=\"colab-df-convert\" onclick=\"convertToInteractive('df-001adb97-fc44-423c-a5c2-01a7d69a60d5')\"\n",
              "              title=\"Convert this dataframe to an interactive table.\"\n",
              "              style=\"display:none;\">\n",
              "        \n",
              "  <svg xmlns=\"http://www.w3.org/2000/svg\" height=\"24px\"viewBox=\"0 0 24 24\"\n",
              "       width=\"24px\">\n",
              "    <path d=\"M0 0h24v24H0V0z\" fill=\"none\"/>\n",
              "    <path d=\"M18.56 5.44l.94 2.06.94-2.06 2.06-.94-2.06-.94-.94-2.06-.94 2.06-2.06.94zm-11 1L8.5 8.5l.94-2.06 2.06-.94-2.06-.94L8.5 2.5l-.94 2.06-2.06.94zm10 10l.94 2.06.94-2.06 2.06-.94-2.06-.94-.94-2.06-.94 2.06-2.06.94z\"/><path d=\"M17.41 7.96l-1.37-1.37c-.4-.4-.92-.59-1.43-.59-.52 0-1.04.2-1.43.59L10.3 9.45l-7.72 7.72c-.78.78-.78 2.05 0 2.83L4 21.41c.39.39.9.59 1.41.59.51 0 1.02-.2 1.41-.59l7.78-7.78 2.81-2.81c.8-.78.8-2.07 0-2.86zM5.41 20L4 18.59l7.72-7.72 1.47 1.35L5.41 20z\"/>\n",
              "  </svg>\n",
              "      </button>\n",
              "      \n",
              "  <style>\n",
              "    .colab-df-container {\n",
              "      display:flex;\n",
              "      flex-wrap:wrap;\n",
              "      gap: 12px;\n",
              "    }\n",
              "\n",
              "    .colab-df-convert {\n",
              "      background-color: #E8F0FE;\n",
              "      border: none;\n",
              "      border-radius: 50%;\n",
              "      cursor: pointer;\n",
              "      display: none;\n",
              "      fill: #1967D2;\n",
              "      height: 32px;\n",
              "      padding: 0 0 0 0;\n",
              "      width: 32px;\n",
              "    }\n",
              "\n",
              "    .colab-df-convert:hover {\n",
              "      background-color: #E2EBFA;\n",
              "      box-shadow: 0px 1px 2px rgba(60, 64, 67, 0.3), 0px 1px 3px 1px rgba(60, 64, 67, 0.15);\n",
              "      fill: #174EA6;\n",
              "    }\n",
              "\n",
              "    [theme=dark] .colab-df-convert {\n",
              "      background-color: #3B4455;\n",
              "      fill: #D2E3FC;\n",
              "    }\n",
              "\n",
              "    [theme=dark] .colab-df-convert:hover {\n",
              "      background-color: #434B5C;\n",
              "      box-shadow: 0px 1px 3px 1px rgba(0, 0, 0, 0.15);\n",
              "      filter: drop-shadow(0px 1px 2px rgba(0, 0, 0, 0.3));\n",
              "      fill: #FFFFFF;\n",
              "    }\n",
              "  </style>\n",
              "\n",
              "      <script>\n",
              "        const buttonEl =\n",
              "          document.querySelector('#df-001adb97-fc44-423c-a5c2-01a7d69a60d5 button.colab-df-convert');\n",
              "        buttonEl.style.display =\n",
              "          google.colab.kernel.accessAllowed ? 'block' : 'none';\n",
              "\n",
              "        async function convertToInteractive(key) {\n",
              "          const element = document.querySelector('#df-001adb97-fc44-423c-a5c2-01a7d69a60d5');\n",
              "          const dataTable =\n",
              "            await google.colab.kernel.invokeFunction('convertToInteractive',\n",
              "                                                     [key], {});\n",
              "          if (!dataTable) return;\n",
              "\n",
              "          const docLinkHtml = 'Like what you see? Visit the ' +\n",
              "            '<a target=\"_blank\" href=https://colab.research.google.com/notebooks/data_table.ipynb>data table notebook</a>'\n",
              "            + ' to learn more about interactive tables.';\n",
              "          element.innerHTML = '';\n",
              "          dataTable['output_type'] = 'display_data';\n",
              "          await google.colab.output.renderOutput(dataTable, element);\n",
              "          const docLink = document.createElement('div');\n",
              "          docLink.innerHTML = docLinkHtml;\n",
              "          element.appendChild(docLink);\n",
              "        }\n",
              "      </script>\n",
              "    </div>\n",
              "  </div>\n",
              "  "
            ]
          },
          "metadata": {},
          "execution_count": 70
        }
      ]
    },
    {
      "cell_type": "code",
      "source": [
        "sns.countplot(data = df, x = 'sentiment')\n",
        "plt.title('Distribution of Sentiments in dataset')"
      ],
      "metadata": {
        "execution": {
          "iopub.status.busy": "2022-07-14T12:19:03.730297Z",
          "iopub.execute_input": "2022-07-14T12:19:03.731051Z",
          "iopub.status.idle": "2022-07-14T12:19:03.967022Z",
          "shell.execute_reply.started": "2022-07-14T12:19:03.731007Z",
          "shell.execute_reply": "2022-07-14T12:19:03.965925Z"
        },
        "trusted": true,
        "colab": {
          "base_uri": "https://localhost:8080/",
          "height": 313
        },
        "id": "BmD-AZ872XiF",
        "outputId": "9acb07a9-34c3-4154-b91f-629b9ac6e493"
      },
      "execution_count": 71,
      "outputs": [
        {
          "output_type": "execute_result",
          "data": {
            "text/plain": [
              "Text(0.5, 1.0, 'Distribution of Sentiments in dataset')"
            ]
          },
          "metadata": {},
          "execution_count": 71
        },
        {
          "output_type": "display_data",
          "data": {
            "text/plain": [
              "<Figure size 432x288 with 1 Axes>"
            ],
            "image/png": "[encoded data removed]"
          },
          "metadata": {
            "needs_background": "light"
          }
        }
      ]
    },
    {
      "cell_type": "code",
      "source": [
        "df.review[0]"
      ],
      "metadata": {
        "execution": {
          "iopub.status.busy": "2022-07-14T12:19:03.972103Z",
          "iopub.execute_input": "2022-07-14T12:19:03.972432Z",
          "iopub.status.idle": "2022-07-14T12:19:03.979721Z",
          "shell.execute_reply.started": "2022-07-14T12:19:03.972403Z",
          "shell.execute_reply": "2022-07-14T12:19:03.978593Z"
        },
        "trusted": true,
        "colab": {
          "base_uri": "https://localhost:8080/",
          "height": 254
        },
        "id": "A7p09SgU2XiF",
        "outputId": "ba04651d-8943-4f87-bde2-b67c0d284414"
      },
      "execution_count": 72,
      "outputs": [
        {
          "output_type": "execute_result",
          "data": {
            "text/plain": [
              "\"One of the other reviewers has mentioned that after watching just 1 Oz episode you'll be hooked. They are right, as this is exactly what happened with me.<br /><br />The first thing that struck me about Oz was its brutality and unflinching scenes of violence, which set in right from the word GO. Trust me, this is not a show for the faint hearted or timid. This show pulls no punches with regards to drugs, sex or violence. Its is hardcore, in the classic use of the word.<br /><br />It is called OZ as that is the nickname given to the Oswald Maximum Security State Penitentary. It focuses mainly on Emerald City, an experimental section of the prison where all the cells have glass fronts and face inwards, so privacy is not high on the agenda. Em City is home to many..Aryans, Muslims, gangstas, Latinos, Christians, Italians, Irish and more....so scuffles, death stares, dodgy dealings and shady agreements are never far away.<br /><br />I would say the main appeal of the show is due to the fact that it goes where other shows wouldn't dare. Forget pretty pictures painted for mainstream audiences, forget charm, forget romance...OZ doesn't mess around. The first episode I ever saw struck me as so nasty it was surreal, I couldn't say I was ready for it, but as I watched more, I developed a taste for Oz, and got accustomed to the high levels of graphic violence. Not just violence, but injustice (crooked guards who'll be sold out for a nickel, inmates who'll kill on order and get away with it, well mannered, middle class inmates being turned into prison bitches due to their lack of street skills or prison experience) Watching Oz, you may become comfortable with what is uncomfortable viewing....thats if you can get in touch with your darker side.\""
            ],
            "application/vnd.google.colaboratory.intrinsic+json": {
              "type": "string"
            }
          },
          "metadata": {},
          "execution_count": 72
        }
      ]
    },
    {
      "cell_type": "code",
      "source": [
        "def preprocess_text(review):\n",
        "    if isinstance(review, str):\n",
        "        review = review.lower()\n",
        "        review = contractions.fix(review)\n",
        "        review = re.sub(r'<br />|\\(|\\)\\{\\}\\[\\]', \" \", review)\n",
        "        review = re.sub(r'[^A-Za-z]+',' ', review)\n",
        "        review = stopwords_pattern.sub('', review)\n",
        "    return review"
      ],
      "metadata": {
        "execution": {
          "iopub.status.busy": "2022-07-14T12:19:03.981539Z",
          "iopub.execute_input": "2022-07-14T12:19:03.981973Z",
          "iopub.status.idle": "2022-07-14T12:19:03.990309Z",
          "shell.execute_reply.started": "2022-07-14T12:19:03.981932Z",
          "shell.execute_reply": "2022-07-14T12:19:03.989224Z"
        },
        "trusted": true,
        "id": "BfZ9tCgd2XiG"
      },
      "execution_count": 73,
      "outputs": []
    },
    {
      "cell_type": "code",
      "source": [
        "df.review = df.review.apply(preprocess_text)"
      ],
      "metadata": {
        "execution": {
          "iopub.status.busy": "2022-07-14T12:19:03.991674Z",
          "iopub.execute_input": "2022-07-14T12:19:03.992105Z",
          "iopub.status.idle": "2022-07-14T12:19:23.275216Z",
          "shell.execute_reply.started": "2022-07-14T12:19:03.992063Z",
          "shell.execute_reply": "2022-07-14T12:19:23.273985Z"
        },
        "trusted": true,
        "id": "ayD3vHZi2XiG"
      },
      "execution_count": 75,
      "outputs": []
    },
    {
      "cell_type": "code",
      "source": [
        "df.head()"
      ],
      "metadata": {
        "execution": {
          "iopub.status.busy": "2022-07-14T12:19:23.276835Z",
          "iopub.execute_input": "2022-07-14T12:19:23.277235Z",
          "iopub.status.idle": "2022-07-14T12:19:23.287416Z",
          "shell.execute_reply.started": "2022-07-14T12:19:23.277201Z",
          "shell.execute_reply": "2022-07-14T12:19:23.286355Z"
        },
        "trusted": true,
        "colab": {
          "base_uri": "https://localhost:8080/",
          "height": 206
        },
        "id": "Yd1ReiDF2XiG",
        "outputId": "c5bb41a9-71ec-4e89-bfc0-831c0760bd52"
      },
      "execution_count": 76,
      "outputs": [
        {
          "output_type": "execute_result",
          "data": {
            "text/plain": [
              "                                              review sentiment\n",
              "0  one reviewers mentioned watching just oz episo...  positive\n",
              "1  wonderful little production filming technique ...  positive\n",
              "2  thought wonderful way spend time too hot summe...  positive\n",
              "3  basically family little boy jake thinks zombie...  negative\n",
              "4  petter mattei s love time money visually stunn...  positive"
            ],
            "text/html": [
              "\n",
              "  <div id=\"df-40af6482-1967-4e1a-a16b-2b5aa2abad8a\">\n",
              "    <div class=\"colab-df-container\">\n",
              "      <div>\n",
              "<style scoped>\n",
              "    .dataframe tbody tr th:only-of-type {\n",
              "        vertical-align: middle;\n",
              "    }\n",
              "\n",
              "    .dataframe tbody tr th {\n",
              "        vertical-align: top;\n",
              "    }\n",
              "\n",
              "    .dataframe thead th {\n",
              "        text-align: right;\n",
              "    }\n",
              "</style>\n",
              "<table border=\"1\" class=\"dataframe\">\n",
              "  <thead>\n",
              "    <tr style=\"text-align: right;\">\n",
              "      <th></th>\n",
              "      <th>review</th>\n",
              "      <th>sentiment</th>\n",
              "    </tr>\n",
              "  </thead>\n",
              "  <tbody>\n",
              "    <tr>\n",
              "      <th>0</th>\n",
              "      <td>one reviewers mentioned watching just oz episo...</td>\n",
              "      <td>positive</td>\n",
              "    </tr>\n",
              "    <tr>\n",
              "      <th>1</th>\n",
              "      <td>wonderful little production filming technique ...</td>\n",
              "      <td>positive</td>\n",
              "    </tr>\n",
              "    <tr>\n",
              "      <th>2</th>\n",
              "      <td>thought wonderful way spend time too hot summe...</td>\n",
              "      <td>positive</td>\n",
              "    </tr>\n",
              "    <tr>\n",
              "      <th>3</th>\n",
              "      <td>basically family little boy jake thinks zombie...</td>\n",
              "      <td>negative</td>\n",
              "    </tr>\n",
              "    <tr>\n",
              "      <th>4</th>\n",
              "      <td>petter mattei s love time money visually stunn...</td>\n",
              "      <td>positive</td>\n",
              "    </tr>\n",
              "  </tbody>\n",
              "</table>\n",
              "</div>\n",
              "      <button class=\"colab-df-convert\" onclick=\"convertToInteractive('df-40af6482-1967-4e1a-a16b-2b5aa2abad8a')\"\n",
              "              title=\"Convert this dataframe to an interactive table.\"\n",
              "              style=\"display:none;\">\n",
              "        \n",
              "  <svg xmlns=\"http://www.w3.org/2000/svg\" height=\"24px\"viewBox=\"0 0 24 24\"\n",
              "       width=\"24px\">\n",
              "    <path d=\"M0 0h24v24H0V0z\" fill=\"none\"/>\n",
              "    <path d=\"M18.56 5.44l.94 2.06.94-2.06 2.06-.94-2.06-.94-.94-2.06-.94 2.06-2.06.94zm-11 1L8.5 8.5l.94-2.06 2.06-.94-2.06-.94L8.5 2.5l-.94 2.06-2.06.94zm10 10l.94 2.06.94-2.06 2.06-.94-2.06-.94-.94-2.06-.94 2.06-2.06.94z\"/><path d=\"M17.41 7.96l-1.37-1.37c-.4-.4-.92-.59-1.43-.59-.52 0-1.04.2-1.43.59L10.3 9.45l-7.72 7.72c-.78.78-.78 2.05 0 2.83L4 21.41c.39.39.9.59 1.41.59.51 0 1.02-.2 1.41-.59l7.78-7.78 2.81-2.81c.8-.78.8-2.07 0-2.86zM5.41 20L4 18.59l7.72-7.72 1.47 1.35L5.41 20z\"/>\n",
              "  </svg>\n",
              "      </button>\n",
              "      \n",
              "  <style>\n",
              "    .colab-df-container {\n",
              "      display:flex;\n",
              "      flex-wrap:wrap;\n",
              "      gap: 12px;\n",
              "    }\n",
              "\n",
              "    .colab-df-convert {\n",
              "      background-color: #E8F0FE;\n",
              "      border: none;\n",
              "      border-radius: 50%;\n",
              "      cursor: pointer;\n",
              "      display: none;\n",
              "      fill: #1967D2;\n",
              "      height: 32px;\n",
              "      padding: 0 0 0 0;\n",
              "      width: 32px;\n",
              "    }\n",
              "\n",
              "    .colab-df-convert:hover {\n",
              "      background-color: #E2EBFA;\n",
              "      box-shadow: 0px 1px 2px rgba(60, 64, 67, 0.3), 0px 1px 3px 1px rgba(60, 64, 67, 0.15);\n",
              "      fill: #174EA6;\n",
              "    }\n",
              "\n",
              "    [theme=dark] .colab-df-convert {\n",
              "      background-color: #3B4455;\n",
              "      fill: #D2E3FC;\n",
              "    }\n",
              "\n",
              "    [theme=dark] .colab-df-convert:hover {\n",
              "      background-color: #434B5C;\n",
              "      box-shadow: 0px 1px 3px 1px rgba(0, 0, 0, 0.15);\n",
              "      filter: drop-shadow(0px 1px 2px rgba(0, 0, 0, 0.3));\n",
              "      fill: #FFFFFF;\n",
              "    }\n",
              "  </style>\n",
              "\n",
              "      <script>\n",
              "        const buttonEl =\n",
              "          document.querySelector('#df-40af6482-1967-4e1a-a16b-2b5aa2abad8a button.colab-df-convert');\n",
              "        buttonEl.style.display =\n",
              "          google.colab.kernel.accessAllowed ? 'block' : 'none';\n",
              "\n",
              "        async function convertToInteractive(key) {\n",
              "          const element = document.querySelector('#df-40af6482-1967-4e1a-a16b-2b5aa2abad8a');\n",
              "          const dataTable =\n",
              "            await google.colab.kernel.invokeFunction('convertToInteractive',\n",
              "                                                     [key], {});\n",
              "          if (!dataTable) return;\n",
              "\n",
              "          const docLinkHtml = 'Like what you see? Visit the ' +\n",
              "            '<a target=\"_blank\" href=https://colab.research.google.com/notebooks/data_table.ipynb>data table notebook</a>'\n",
              "            + ' to learn more about interactive tables.';\n",
              "          element.innerHTML = '';\n",
              "          dataTable['output_type'] = 'display_data';\n",
              "          await google.colab.output.renderOutput(dataTable, element);\n",
              "          const docLink = document.createElement('div');\n",
              "          docLink.innerHTML = docLinkHtml;\n",
              "          element.appendChild(docLink);\n",
              "        }\n",
              "      </script>\n",
              "    </div>\n",
              "  </div>\n",
              "  "
            ]
          },
          "metadata": {},
          "execution_count": 76
        }
      ]
    },
    {
      "cell_type": "code",
      "source": [
        "df.review[0]"
      ],
      "metadata": {
        "execution": {
          "iopub.status.busy": "2022-07-14T12:19:23.288947Z",
          "iopub.execute_input": "2022-07-14T12:19:23.289261Z",
          "iopub.status.idle": "2022-07-14T12:19:23.301255Z",
          "shell.execute_reply.started": "2022-07-14T12:19:23.289233Z",
          "shell.execute_reply": "2022-07-14T12:19:23.300090Z"
        },
        "trusted": true,
        "colab": {
          "base_uri": "https://localhost:8080/",
          "height": 254
        },
        "id": "PGoeO9Sf2XiG",
        "outputId": "e57bfdef-ed8a-419a-80b3-7e39e0f05a46"
      },
      "execution_count": 77,
      "outputs": [
        {
          "output_type": "execute_result",
          "data": {
            "text/plain": [
              "'one reviewers mentioned watching just oz episode will hooked right exactly happened first thing struck oz brutality unflinching scenes violence set right word go trust not show faint hearted timid show pulls no punches regards drugs sex violence hardcore classic use word called oz nickname given oswald maximum security state penitentary focuses mainly emerald city experimental section prison cells glass fronts face inwards so privacy not high agenda city home many aryans muslims gangstas latinos christians italians irish so scuffles death stares dodgy dealings shady agreements never far away would say main appeal show due fact goes shows would not dare forget pretty pictures painted mainstream audiences forget charm forget romance oz not mess around first episode ever saw struck so nasty surreal could not say ready watched developed taste oz got accustomed high levels graphic violence not just violence injustice crooked guards will sold nickel inmates will kill order get away well mannered middle class inmates turned prison bitches due lack street skills prison experience watching oz may become comfortable uncomfortable viewing can get touch darker side '"
            ],
            "application/vnd.google.colaboratory.intrinsic+json": {
              "type": "string"
            }
          },
          "metadata": {},
          "execution_count": 77
        }
      ]
    },
    {
      "cell_type": "markdown",
      "source": [
        "## Convert Reviews into Vectors"
      ],
      "metadata": {
        "id": "xv8RuWi62XiG"
      }
    },
    {
      "cell_type": "code",
      "source": [
        "def get_text_vectorizer(text_ds):\n",
        "    text_vectorizer = TextVectorization()\n",
        "    text_vectorizer.adapt(text_ds)\n",
        "    vocab = text_vectorizer.get_vocabulary()\n",
        "    word_index = dict(zip(vocab, range(len(vocab))))\n",
        "    print(\"Total Number of Unique words in the text -\", len(vocab))\n",
        "    return vocab, word_index, text_vectorizer"
      ],
      "metadata": {
        "execution": {
          "iopub.status.busy": "2022-07-14T12:19:23.302437Z",
          "iopub.execute_input": "2022-07-14T12:19:23.302740Z",
          "iopub.status.idle": "2022-07-14T12:19:23.317323Z",
          "shell.execute_reply.started": "2022-07-14T12:19:23.302713Z",
          "shell.execute_reply": "2022-07-14T12:19:23.316455Z"
        },
        "trusted": true,
        "id": "8LO7ZdjA2XiG"
      },
      "execution_count": 78,
      "outputs": []
    },
    {
      "cell_type": "code",
      "source": [
        "vocab, word_index, text_vectorizer = get_text_vectorizer(df.review)"
      ],
      "metadata": {
        "execution": {
          "iopub.status.busy": "2022-07-14T12:19:23.318922Z",
          "iopub.execute_input": "2022-07-14T12:19:23.319260Z",
          "iopub.status.idle": "2022-07-14T12:19:27.182159Z",
          "shell.execute_reply.started": "2022-07-14T12:19:23.319230Z",
          "shell.execute_reply": "2022-07-14T12:19:27.180531Z"
        },
        "trusted": true,
        "colab": {
          "base_uri": "https://localhost:8080/"
        },
        "id": "7E2lcSe52XiG",
        "outputId": "c2a1b2c4-0caa-4a86-8376-6701e3f2ddb2"
      },
      "execution_count": 79,
      "outputs": [
        {
          "output_type": "stream",
          "name": "stdout",
          "text": [
            "Total Number of Unique words in the text - 99230\n"
          ]
        }
      ]
    },
    {
      "cell_type": "code",
      "source": [
        "vectorized_text = text_vectorizer(df.review)"
      ],
      "metadata": {
        "execution": {
          "iopub.status.busy": "2022-07-14T12:19:27.183254Z",
          "iopub.execute_input": "2022-07-14T12:19:27.183529Z",
          "iopub.status.idle": "2022-07-14T12:19:29.271673Z",
          "shell.execute_reply.started": "2022-07-14T12:19:27.183504Z",
          "shell.execute_reply": "2022-07-14T12:19:29.270582Z"
        },
        "trusted": true,
        "id": "FEyggffJ2XiH"
      },
      "execution_count": 80,
      "outputs": []
    },
    {
      "cell_type": "code",
      "source": [
        "print(vectorized_text.shape)\n",
        "print(\"Max number of non-stop words in a review -\", vectorized_text.shape[1])\n",
        "print(\"Total Number of reviews - \", vectorized_text.shape[0])"
      ],
      "metadata": {
        "colab": {
          "base_uri": "https://localhost:8080/"
        },
        "id": "UVkYPxNEzT4X",
        "outputId": "119c8fba-b560-4a90-922e-e38352907896"
      },
      "execution_count": 81,
      "outputs": [
        {
          "output_type": "stream",
          "name": "stdout",
          "text": [
            "(49582, 1472)\n",
            "Max number of non-stop words in a review - 1472\n",
            "Total Number of reviews -  49582\n"
          ]
        }
      ]
    },
    {
      "cell_type": "code",
      "source": [
        "vectorized_text.shape[1]\n",
        "max_words_in_review = vectorized_text.shape[1]"
      ],
      "metadata": {
        "execution": {
          "iopub.status.busy": "2022-07-14T12:19:29.273220Z",
          "iopub.execute_input": "2022-07-14T12:19:29.273518Z",
          "iopub.status.idle": "2022-07-14T12:19:29.277009Z",
          "shell.execute_reply.started": "2022-07-14T12:19:29.273491Z",
          "shell.execute_reply": "2022-07-14T12:19:29.276255Z"
        },
        "trusted": true,
        "id": "0kH9h5wi2XiH"
      },
      "execution_count": 82,
      "outputs": []
    },
    {
      "cell_type": "code",
      "source": [
        "print(vectorized_text[0].numpy())"
      ],
      "metadata": {
        "execution": {
          "iopub.status.busy": "2022-07-14T12:19:29.278163Z",
          "iopub.execute_input": "2022-07-14T12:19:29.278581Z",
          "iopub.status.idle": "2022-07-14T12:19:29.294088Z",
          "shell.execute_reply.started": "2022-07-14T12:19:29.278553Z",
          "shell.execute_reply": "2022-07-14T12:19:29.292652Z"
        },
        "trusted": true,
        "colab": {
          "base_uri": "https://localhost:8080/"
        },
        "id": "t4QHbOa12XiH",
        "outputId": "745efd8f-5737-4a28-f2b8-a86bd56273ec"
      },
      "execution_count": 83,
      "outputs": [
        {
          "output_type": "stream",
          "name": "stdout",
          "text": [
            "[   6 1946  933 ...    0    0    0]\n"
          ]
        }
      ]
    },
    {
      "cell_type": "code",
      "source": [
        "print(vocab[:10])"
      ],
      "metadata": {
        "execution": {
          "iopub.status.busy": "2022-07-14T12:19:29.295649Z",
          "iopub.execute_input": "2022-07-14T12:19:29.296541Z",
          "iopub.status.idle": "2022-07-14T12:19:29.306920Z",
          "shell.execute_reply.started": "2022-07-14T12:19:29.296491Z",
          "shell.execute_reply": "2022-07-14T12:19:29.306080Z"
        },
        "trusted": true,
        "colab": {
          "base_uri": "https://localhost:8080/"
        },
        "id": "QrSJjNU32XiH",
        "outputId": "1b5bb6e7-ef12-4532-ef7a-533de3c19967"
      },
      "execution_count": 84,
      "outputs": [
        {
          "output_type": "stream",
          "name": "stdout",
          "text": [
            "['', '[UNK]', 'not', 'movie', 'film', 's', 'one', 'so', 'like', 'just']\n"
          ]
        }
      ]
    },
    {
      "cell_type": "code",
      "source": [
        "# Word Index and vocabulary are basically inverse of each other\n",
        "print(word_index['film'])"
      ],
      "metadata": {
        "execution": {
          "iopub.status.busy": "2022-07-14T12:19:29.307886Z",
          "iopub.execute_input": "2022-07-14T12:19:29.308604Z",
          "iopub.status.idle": "2022-07-14T12:19:29.322330Z",
          "shell.execute_reply.started": "2022-07-14T12:19:29.308573Z",
          "shell.execute_reply": "2022-07-14T12:19:29.321254Z"
        },
        "trusted": true,
        "colab": {
          "base_uri": "https://localhost:8080/"
        },
        "id": "3m354MNO2XiH",
        "outputId": "c180e409-31b8-4a6c-c9c3-6747807e5687"
      },
      "execution_count": 85,
      "outputs": [
        {
          "output_type": "stream",
          "name": "stdout",
          "text": [
            "4\n"
          ]
        }
      ]
    },
    {
      "cell_type": "code",
      "source": [
        "text__ = \"My name is Aryan, and I am a Machine Learning enthusiast\"\n",
        "text__ = preprocess_text(text__)\n",
        "text_vectorizer(text__)"
      ],
      "metadata": {
        "execution": {
          "iopub.status.busy": "2022-07-14T12:19:31.101195Z",
          "iopub.execute_input": "2022-07-14T12:19:31.101493Z",
          "iopub.status.idle": "2022-07-14T12:19:31.116476Z",
          "shell.execute_reply.started": "2022-07-14T12:19:31.101466Z",
          "shell.execute_reply": "2022-07-14T12:19:31.115351Z"
        },
        "trusted": true,
        "colab": {
          "base_uri": "https://localhost:8080/"
        },
        "id": "3fOwsUQ12XiH",
        "outputId": "ee548487-3945-4089-abc3-8043850afe8c"
      },
      "execution_count": 86,
      "outputs": [
        {
          "output_type": "execute_result",
          "data": {
            "text/plain": [
              "<tf.Tensor: shape=(5,), dtype=int64, numpy=array([  283, 17201,  1369,  2693, 11227])>"
            ]
          },
          "metadata": {},
          "execution_count": 86
        }
      ]
    },
    {
      "cell_type": "markdown",
      "source": [
        "    -> We can observe above, that the stopwords like [\"my\", \"is\", \"and\", \"i\", \"am\"..] are removed, and the vectorized text contains a list of integer indices\n",
        "    "
      ],
      "metadata": {
        "id": "bDxhZNC12XiH"
      }
    },
    {
      "cell_type": "markdown",
      "source": [
        "## Loading pre-trained Glove Embeddings"
      ],
      "metadata": {
        "id": "pOFFaixt2XiH"
      }
    },
    {
      "cell_type": "code",
      "source": [
        "# Download the pretrained Glove Embeddings\n",
        "!wget http://nlp.stanford.edu/data/glove.6B.zip\n",
        "!unzip -q glove.6B.zip"
      ],
      "metadata": {
        "execution": {
          "iopub.status.busy": "2022-07-14T12:19:31.118899Z",
          "iopub.execute_input": "2022-07-14T12:19:31.120389Z",
          "iopub.status.idle": "2022-07-14T12:22:39.380730Z",
          "shell.execute_reply.started": "2022-07-14T12:19:31.120340Z",
          "shell.execute_reply": "2022-07-14T12:22:39.379082Z"
        },
        "trusted": true,
        "id": "wmja9l172XiI"
      },
      "execution_count": 88,
      "outputs": []
    },
    {
      "cell_type": "code",
      "source": [
        "# First, we see the format in which embedding vectors are present in the files\n",
        "with open('./glove.6B.50d.txt', \"r\") as f:\n",
        "    count = 0\n",
        "    for line in f:\n",
        "        if(count == 3):\n",
        "            break\n",
        "        print(line)\n",
        "        print('\\n')\n",
        "        count += 1\n",
        "    f.close()"
      ],
      "metadata": {
        "execution": {
          "iopub.status.busy": "2022-07-14T12:22:39.382552Z",
          "iopub.execute_input": "2022-07-14T12:22:39.382941Z",
          "iopub.status.idle": "2022-07-14T12:22:39.390849Z",
          "shell.execute_reply.started": "2022-07-14T12:22:39.382909Z",
          "shell.execute_reply": "2022-07-14T12:22:39.389997Z"
        },
        "trusted": true,
        "id": "RPLVAHSs2XiI"
      },
      "execution_count": 89,
      "outputs": []
    },
    {
      "cell_type": "code",
      "source": [
        "def get_glove_emb_vectors(filepath):\n",
        "    word_to_idx = {}\n",
        "    idx_to_word = {}\n",
        "    word_to_vec_map = {}\n",
        "    \n",
        "    with open(filepath, \"r\") as f:\n",
        "        for idx, line in enumerate(f):\n",
        "            word, vec = line.split(' ', maxsplit = 1)\n",
        "            vec = np.fromstring(vec, dtype = np.float32, sep = \" \")\n",
        "            idx_to_word[idx] = word\n",
        "            word_to_idx[word] = idx\n",
        "            word_to_vec_map[word] = vec\n",
        "    return word_to_idx, idx_to_word, word_to_vec_map"
      ],
      "metadata": {
        "execution": {
          "iopub.status.busy": "2022-07-14T12:22:39.391819Z",
          "iopub.execute_input": "2022-07-14T12:22:39.392769Z",
          "iopub.status.idle": "2022-07-14T12:22:39.405918Z",
          "shell.execute_reply.started": "2022-07-14T12:22:39.392733Z",
          "shell.execute_reply": "2022-07-14T12:22:39.405123Z"
        },
        "trusted": true,
        "id": "nTWAk1Rh2XiI"
      },
      "execution_count": 90,
      "outputs": []
    },
    {
      "cell_type": "code",
      "source": [
        "embedding_dims = 300\n",
        "filepath = f'./glove.6B.{embedding_dims}d.txt'\n",
        "word_to_idx, idx_to_word, word_to_vec = get_glove_emb_vectors(filepath)\n",
        "print(f\"Found {len(word_to_idx)} word vectors.\")"
      ],
      "metadata": {
        "execution": {
          "iopub.status.busy": "2022-07-14T12:22:39.407310Z",
          "iopub.execute_input": "2022-07-14T12:22:39.408100Z",
          "iopub.status.idle": "2022-07-14T12:22:57.950969Z",
          "shell.execute_reply.started": "2022-07-14T12:22:39.408069Z",
          "shell.execute_reply": "2022-07-14T12:22:57.949737Z"
        },
        "trusted": true,
        "id": "KJGZJCUz2XiI"
      },
      "execution_count": 91,
      "outputs": []
    },
    {
      "cell_type": "code",
      "source": [
        "# Let's look at the emb vector of a word\n",
        "print(word_to_vec[\"hello\"])"
      ],
      "metadata": {
        "execution": {
          "iopub.status.busy": "2022-07-14T12:22:57.957531Z",
          "iopub.execute_input": "2022-07-14T12:22:57.957931Z",
          "iopub.status.idle": "2022-07-14T12:22:57.970190Z",
          "shell.execute_reply.started": "2022-07-14T12:22:57.957881Z",
          "shell.execute_reply": "2022-07-14T12:22:57.969264Z"
        },
        "trusted": true,
        "colab": {
          "base_uri": "https://localhost:8080/"
        },
        "id": "DtcQ1XgK2XiI",
        "outputId": "c7a8d756-0841-4f6f-a0e7-1e4fc3946513"
      },
      "execution_count": 92,
      "outputs": [
        {
          "output_type": "stream",
          "name": "stdout",
          "text": [
            "[-3.3712e-01 -2.1691e-01 -6.6365e-03 -4.1625e-01 -1.2555e+00 -2.8466e-02\n",
            " -7.2195e-01 -5.2887e-01  7.2085e-03  3.1997e-01  2.9425e-02 -1.3236e-02\n",
            "  4.3511e-01  2.5716e-01  3.8995e-01 -1.1968e-01  1.5035e-01  4.4762e-01\n",
            "  2.8407e-01  4.9339e-01  6.2826e-01  2.2888e-01 -4.0385e-01  2.7364e-02\n",
            "  7.3679e-03  1.3995e-01  2.3346e-01  6.8122e-02  4.8422e-01 -1.9578e-02\n",
            " -5.4751e-01 -5.4983e-01 -3.4091e-02  8.0017e-03 -4.3065e-01 -1.8969e-02\n",
            " -8.5670e-02 -8.1123e-01 -2.1080e-01  3.7784e-01 -3.5046e-01  1.3684e-01\n",
            " -5.5661e-01  1.6835e-01 -2.2952e-01 -1.6184e-01  6.7345e-01 -4.6597e-01\n",
            " -3.1834e-02 -2.6037e-01 -1.7797e-01  1.9436e-02  1.0727e-01  6.6534e-01\n",
            " -3.4836e-01  4.7833e-02  1.6440e-01  1.4088e-01  1.9204e-01 -3.5009e-01\n",
            "  2.6236e-01  1.7626e-01 -3.1367e-01  1.1709e-01  2.0378e-01  6.1775e-01\n",
            "  4.9075e-01 -7.5210e-02 -1.1815e-01  1.8685e-01  4.0679e-01  2.8319e-01\n",
            " -1.6290e-01  3.8388e-02  4.3794e-01  8.8224e-02  5.9046e-01 -5.3515e-02\n",
            "  3.8819e-02  1.8202e-01 -2.7599e-01  3.9474e-01 -2.0499e-01  1.7411e-01\n",
            "  1.0315e-01  2.5117e-01 -3.6542e-01  3.6528e-01  2.2448e-01 -9.7551e-01\n",
            "  9.4505e-02 -1.7859e-01 -3.0688e-01 -5.8633e-01 -1.8526e-01  3.9565e-02\n",
            " -4.2309e-01 -1.5715e-01  2.0401e-01  1.6906e-01  3.4465e-01 -4.2262e-01\n",
            "  1.9553e-01  5.9454e-01 -3.0531e-01 -1.0633e-01 -1.9055e-01 -5.8544e-01\n",
            "  2.1357e-01  3.8414e-01  9.1499e-02  3.8353e-01  2.9075e-01  2.4519e-02\n",
            "  2.8440e-01  6.3715e-02 -1.5483e-01  4.0031e-01  3.1543e-01 -3.7128e-02\n",
            "  6.3363e-02 -2.7090e-01  2.5160e-01  4.7105e-01  4.9556e-01 -3.6401e-01\n",
            "  1.0370e-01  4.6076e-02  1.6565e-01 -2.9024e-01 -6.6949e-02 -3.0881e-01\n",
            "  4.8263e-01  3.0972e-01 -1.1145e-01 -1.0329e-01  2.8585e-02 -1.3579e-01\n",
            "  5.2924e-01 -1.4077e-01  9.1763e-02  1.3127e-01 -2.0944e-01  2.2327e-02\n",
            " -7.7692e-02  7.7934e-02 -3.3067e-02  1.1680e-01  3.2029e-01  3.7749e-01\n",
            " -7.5679e-01 -1.5944e-01  1.4964e-01  4.2253e-01  2.8136e-03  2.1328e-01\n",
            "  8.6776e-02 -5.2704e-02 -4.0859e-01 -1.1774e-01  9.0621e-02 -2.3794e-01\n",
            " -1.8326e-01  1.3115e-01 -5.5949e-01  9.2071e-02 -3.9504e-02  1.3334e-01\n",
            "  4.9632e-01  2.8733e-01 -1.8544e-01  2.4618e-02 -4.2826e-01  7.4148e-02\n",
            "  7.6584e-04  2.3950e-01  2.2615e-01  5.5166e-02 -7.5096e-02 -2.2308e-01\n",
            "  2.3775e-01 -4.5455e-01  2.6564e-01 -1.5137e-01 -2.4146e-01 -2.4736e-01\n",
            "  5.5214e-01  2.6819e-01  4.8831e-01 -1.3423e-01 -1.5918e-01  3.7606e-01\n",
            " -1.9834e-01  1.6699e-01 -1.5368e-01  2.4561e-01 -9.2506e-02 -3.0257e-01\n",
            " -2.9493e-01 -7.4917e-01  1.0567e+00  3.7971e-01  6.9314e-01 -3.1672e-02\n",
            "  2.1588e-01 -4.0739e-01 -1.5264e-01  3.2296e-01 -1.2999e-01 -5.0129e-01\n",
            " -4.4231e-01  1.6904e-02 -1.1459e-02  7.2293e-03  1.1026e-01  2.1568e-01\n",
            " -3.2373e-01 -3.7292e-01 -9.2456e-03 -2.6769e-01  3.9066e-01  3.5742e-01\n",
            " -6.0632e-02  6.7966e-02  3.3830e-01  6.5747e-02  1.5794e-01  4.7155e-02\n",
            "  2.3682e-01 -9.1370e-02  6.4649e-01 -2.5491e-01 -6.7940e-01 -6.9752e-01\n",
            " -1.0145e-01 -3.6255e-01  3.6967e-01 -4.1295e-01  8.2724e-02 -3.5053e-01\n",
            " -1.7564e-01  8.5095e-02 -5.7724e-01  5.0252e-01  5.2180e-01  5.7327e-02\n",
            " -7.9754e-01 -3.7770e-01  7.8149e-01  2.4597e-01  6.0672e-01 -2.0082e-01\n",
            " -3.8792e-01  4.1295e-01 -1.6143e-01  1.0427e-02  4.3197e-01  4.6297e-03\n",
            "  2.1185e-01 -2.6606e-01 -5.8740e-02 -5.1003e-01  2.8524e-01  1.3627e-02\n",
            " -2.7346e-01  6.1848e-02 -5.7901e-01 -5.1136e-01  3.6382e-01  3.5144e-01\n",
            " -1.6501e-01 -4.6041e-01 -6.4742e-02 -6.8310e-01 -4.7427e-02  1.5861e-01\n",
            " -4.7288e-01  3.3968e-01  1.2092e-03  1.6018e-01 -5.8024e-01  1.4556e-01\n",
            " -9.1317e-01 -3.7592e-01 -3.2950e-01  5.3465e-01  1.8224e-01 -5.2265e-01\n",
            " -2.6209e-01 -4.2458e-01 -1.8034e-01  9.9502e-02 -1.5114e-01 -6.6731e-01\n",
            "  2.4483e-01 -5.6630e-01  3.3843e-01  4.0558e-01  1.8073e-01  6.4250e-01]\n"
          ]
        }
      ]
    },
    {
      "cell_type": "code",
      "source": [
        "# Now, we shall create the Embedding Matrix for our vocabulary\n",
        "\n",
        "def get_embedding_matrix(word_index, word_to_vector):\n",
        "    # Number of tokens in emb matrix is taken to be 2 more than vocab size\n",
        "    hits, misses = 0, 0\n",
        "    num_tokens = len(word_index) + 2\n",
        "    \n",
        "    # Use a common word expected to be in any embedding vector dictionary to get emb shape \n",
        "    emb_dims = word_to_vector['hello'].shape[0]\n",
        "    \n",
        "    # Initialize the embedding matrix with zeros\n",
        "    embedding_matrix = np.zeros((num_tokens, emb_dims), dtype = np.float32)\n",
        "    \n",
        "    for word, idx in word_index.items():\n",
        "        emb_vector = word_to_vector.get(word)\n",
        "        if emb_vector is not None:\n",
        "            embedding_matrix[idx] = emb_vector\n",
        "            hits+= 1\n",
        "        else:\n",
        "            misses += 1\n",
        "    print(f\"For the {hits+misses} words in the vocabulary for given text,\\n\",\n",
        "            f\"{hits} words were found in the glove embeddings, while {misses} words could not be found\")\n",
        "    return embedding_matrix"
      ],
      "metadata": {
        "execution": {
          "iopub.status.busy": "2022-07-14T12:22:57.971406Z",
          "iopub.execute_input": "2022-07-14T12:22:57.971713Z",
          "iopub.status.idle": "2022-07-14T12:22:57.981593Z",
          "shell.execute_reply.started": "2022-07-14T12:22:57.971684Z",
          "shell.execute_reply": "2022-07-14T12:22:57.980481Z"
        },
        "trusted": true,
        "id": "o58J4AoA2XiI"
      },
      "execution_count": 93,
      "outputs": []
    },
    {
      "cell_type": "code",
      "source": [
        "EMBEDDING_MATRIX = get_embedding_matrix(word_index, word_to_vec)"
      ],
      "metadata": {
        "execution": {
          "iopub.status.busy": "2022-07-14T12:22:57.983030Z",
          "iopub.execute_input": "2022-07-14T12:22:57.983452Z",
          "iopub.status.idle": "2022-07-14T12:22:58.231763Z",
          "shell.execute_reply.started": "2022-07-14T12:22:57.983420Z",
          "shell.execute_reply": "2022-07-14T12:22:58.230645Z"
        },
        "trusted": true,
        "id": "kJS0HtKK2XiI"
      },
      "execution_count": 94,
      "outputs": []
    },
    {
      "cell_type": "code",
      "source": [
        "EMBEDDING_MATRIX.shape"
      ],
      "metadata": {
        "execution": {
          "iopub.status.busy": "2022-07-14T12:22:58.233074Z",
          "iopub.execute_input": "2022-07-14T12:22:58.233379Z",
          "iopub.status.idle": "2022-07-14T12:22:58.240362Z",
          "shell.execute_reply.started": "2022-07-14T12:22:58.233350Z",
          "shell.execute_reply": "2022-07-14T12:22:58.239386Z"
        },
        "trusted": true,
        "colab": {
          "base_uri": "https://localhost:8080/"
        },
        "id": "0Xf65dBO2XiI",
        "outputId": "1376648e-479c-490d-8349-f1aa048eb8eb"
      },
      "execution_count": 95,
      "outputs": [
        {
          "output_type": "execute_result",
          "data": {
            "text/plain": [
              "(99232, 300)"
            ]
          },
          "metadata": {},
          "execution_count": 95
        }
      ]
    },
    {
      "cell_type": "code",
      "source": [
        "with open(\"Embedding_Matrix.npy\", \"wb\") as f:\n",
        "    np.save(f, EMBEDDING_MATRIX)\n",
        "    f.close()"
      ],
      "metadata": {
        "id": "wPS0hnDK1FlC"
      },
      "execution_count": 96,
      "outputs": []
    },
    {
      "cell_type": "markdown",
      "source": [
        "### Data Preparation"
      ],
      "metadata": {
        "id": "C_ZKOJGG2XiK"
      }
    },
    {
      "cell_type": "code",
      "source": [
        "BATCH_SIZE = 128\n",
        "MAX_SEQ_LEN = 1024\n",
        "EMB_DIMS = 300\n",
        "VOCAB_SIZE = EMBEDDING_MATRIX.shape[0]"
      ],
      "metadata": {
        "id": "5jYAnm2D_P4G"
      },
      "execution_count": 97,
      "outputs": []
    },
    {
      "cell_type": "code",
      "source": [
        "def DataPipeline(df, text_vectorizer, truncating = 'post'):\n",
        "    X_data = df.review.apply(preprocess_text)\n",
        "    X_data = text_vectorizer(X_data)\n",
        "    X_data = pad_sequences(X_data, maxlen = MAX_SEQ_LEN, truncating = truncating)\n",
        "    Y_data = df.sentiment\n",
        "    Y_data = df.sentiment.apply(lambda x: 1 if(x == 'positive') else 0)\n",
        "    return X_data, Y_data\n",
        "    "
      ],
      "metadata": {
        "execution": {
          "iopub.status.busy": "2022-07-14T12:22:58.242026Z",
          "iopub.execute_input": "2022-07-14T12:22:58.242376Z",
          "iopub.status.idle": "2022-07-14T12:22:58.256105Z",
          "shell.execute_reply.started": "2022-07-14T12:22:58.242337Z",
          "shell.execute_reply": "2022-07-14T12:22:58.255166Z"
        },
        "trusted": true,
        "id": "bX-uMS1Q2XiL"
      },
      "execution_count": 98,
      "outputs": []
    },
    {
      "cell_type": "code",
      "source": [
        "data = pd.read_csv('./IMDB Dataset.csv')\n",
        "data.head()"
      ],
      "metadata": {
        "execution": {
          "iopub.status.busy": "2022-07-14T12:22:58.257566Z",
          "iopub.execute_input": "2022-07-14T12:22:58.257852Z",
          "iopub.status.idle": "2022-07-14T12:22:58.949334Z",
          "shell.execute_reply.started": "2022-07-14T12:22:58.257826Z",
          "shell.execute_reply": "2022-07-14T12:22:58.948496Z"
        },
        "trusted": true,
        "colab": {
          "base_uri": "https://localhost:8080/",
          "height": 206
        },
        "id": "fOEm19Pk2XiL",
        "outputId": "610e9273-c083-4a50-ce2c-58f49ff16e55"
      },
      "execution_count": 99,
      "outputs": [
        {
          "output_type": "execute_result",
          "data": {
            "text/plain": [
              "                                              review sentiment\n",
              "0  One of the other reviewers has mentioned that ...  positive\n",
              "1  A wonderful little production. <br /><br />The...  positive\n",
              "2  I thought this was a wonderful way to spend ti...  positive\n",
              "3  Basically there's a family where a little boy ...  negative\n",
              "4  Petter Mattei's \"Love in the Time of Money\" is...  positive"
            ],
            "text/html": [
              "\n",
              "  <div id=\"df-5a0d2961-ba33-40b3-ba37-cd74d3c109f9\">\n",
              "    <div class=\"colab-df-container\">\n",
              "      <div>\n",
              "<style scoped>\n",
              "    .dataframe tbody tr th:only-of-type {\n",
              "        vertical-align: middle;\n",
              "    }\n",
              "\n",
              "    .dataframe tbody tr th {\n",
              "        vertical-align: top;\n",
              "    }\n",
              "\n",
              "    .dataframe thead th {\n",
              "        text-align: right;\n",
              "    }\n",
              "</style>\n",
              "<table border=\"1\" class=\"dataframe\">\n",
              "  <thead>\n",
              "    <tr style=\"text-align: right;\">\n",
              "      <th></th>\n",
              "      <th>review</th>\n",
              "      <th>sentiment</th>\n",
              "    </tr>\n",
              "  </thead>\n",
              "  <tbody>\n",
              "    <tr>\n",
              "      <th>0</th>\n",
              "      <td>One of the other reviewers has mentioned that ...</td>\n",
              "      <td>positive</td>\n",
              "    </tr>\n",
              "    <tr>\n",
              "      <th>1</th>\n",
              "      <td>A wonderful little production. &lt;br /&gt;&lt;br /&gt;The...</td>\n",
              "      <td>positive</td>\n",
              "    </tr>\n",
              "    <tr>\n",
              "      <th>2</th>\n",
              "      <td>I thought this was a wonderful way to spend ti...</td>\n",
              "      <td>positive</td>\n",
              "    </tr>\n",
              "    <tr>\n",
              "      <th>3</th>\n",
              "      <td>Basically there's a family where a little boy ...</td>\n",
              "      <td>negative</td>\n",
              "    </tr>\n",
              "    <tr>\n",
              "      <th>4</th>\n",
              "      <td>Petter Mattei's \"Love in the Time of Money\" is...</td>\n",
              "      <td>positive</td>\n",
              "    </tr>\n",
              "  </tbody>\n",
              "</table>\n",
              "</div>\n",
              "      <button class=\"colab-df-convert\" onclick=\"convertToInteractive('df-5a0d2961-ba33-40b3-ba37-cd74d3c109f9')\"\n",
              "              title=\"Convert this dataframe to an interactive table.\"\n",
              "              style=\"display:none;\">\n",
              "        \n",
              "  <svg xmlns=\"http://www.w3.org/2000/svg\" height=\"24px\"viewBox=\"0 0 24 24\"\n",
              "       width=\"24px\">\n",
              "    <path d=\"M0 0h24v24H0V0z\" fill=\"none\"/>\n",
              "    <path d=\"M18.56 5.44l.94 2.06.94-2.06 2.06-.94-2.06-.94-.94-2.06-.94 2.06-2.06.94zm-11 1L8.5 8.5l.94-2.06 2.06-.94-2.06-.94L8.5 2.5l-.94 2.06-2.06.94zm10 10l.94 2.06.94-2.06 2.06-.94-2.06-.94-.94-2.06-.94 2.06-2.06.94z\"/><path d=\"M17.41 7.96l-1.37-1.37c-.4-.4-.92-.59-1.43-.59-.52 0-1.04.2-1.43.59L10.3 9.45l-7.72 7.72c-.78.78-.78 2.05 0 2.83L4 21.41c.39.39.9.59 1.41.59.51 0 1.02-.2 1.41-.59l7.78-7.78 2.81-2.81c.8-.78.8-2.07 0-2.86zM5.41 20L4 18.59l7.72-7.72 1.47 1.35L5.41 20z\"/>\n",
              "  </svg>\n",
              "      </button>\n",
              "      \n",
              "  <style>\n",
              "    .colab-df-container {\n",
              "      display:flex;\n",
              "      flex-wrap:wrap;\n",
              "      gap: 12px;\n",
              "    }\n",
              "\n",
              "    .colab-df-convert {\n",
              "      background-color: #E8F0FE;\n",
              "      border: none;\n",
              "      border-radius: 50%;\n",
              "      cursor: pointer;\n",
              "      display: none;\n",
              "      fill: #1967D2;\n",
              "      height: 32px;\n",
              "      padding: 0 0 0 0;\n",
              "      width: 32px;\n",
              "    }\n",
              "\n",
              "    .colab-df-convert:hover {\n",
              "      background-color: #E2EBFA;\n",
              "      box-shadow: 0px 1px 2px rgba(60, 64, 67, 0.3), 0px 1px 3px 1px rgba(60, 64, 67, 0.15);\n",
              "      fill: #174EA6;\n",
              "    }\n",
              "\n",
              "    [theme=dark] .colab-df-convert {\n",
              "      background-color: #3B4455;\n",
              "      fill: #D2E3FC;\n",
              "    }\n",
              "\n",
              "    [theme=dark] .colab-df-convert:hover {\n",
              "      background-color: #434B5C;\n",
              "      box-shadow: 0px 1px 3px 1px rgba(0, 0, 0, 0.15);\n",
              "      filter: drop-shadow(0px 1px 2px rgba(0, 0, 0, 0.3));\n",
              "      fill: #FFFFFF;\n",
              "    }\n",
              "  </style>\n",
              "\n",
              "      <script>\n",
              "        const buttonEl =\n",
              "          document.querySelector('#df-5a0d2961-ba33-40b3-ba37-cd74d3c109f9 button.colab-df-convert');\n",
              "        buttonEl.style.display =\n",
              "          google.colab.kernel.accessAllowed ? 'block' : 'none';\n",
              "\n",
              "        async function convertToInteractive(key) {\n",
              "          const element = document.querySelector('#df-5a0d2961-ba33-40b3-ba37-cd74d3c109f9');\n",
              "          const dataTable =\n",
              "            await google.colab.kernel.invokeFunction('convertToInteractive',\n",
              "                                                     [key], {});\n",
              "          if (!dataTable) return;\n",
              "\n",
              "          const docLinkHtml = 'Like what you see? Visit the ' +\n",
              "            '<a target=\"_blank\" href=https://colab.research.google.com/notebooks/data_table.ipynb>data table notebook</a>'\n",
              "            + ' to learn more about interactive tables.';\n",
              "          element.innerHTML = '';\n",
              "          dataTable['output_type'] = 'display_data';\n",
              "          await google.colab.output.renderOutput(dataTable, element);\n",
              "          const docLink = document.createElement('div');\n",
              "          docLink.innerHTML = docLinkHtml;\n",
              "          element.appendChild(docLink);\n",
              "        }\n",
              "      </script>\n",
              "    </div>\n",
              "  </div>\n",
              "  "
            ]
          },
          "metadata": {},
          "execution_count": 99
        }
      ]
    },
    {
      "cell_type": "code",
      "source": [
        "data.drop_duplicates(inplace = True)"
      ],
      "metadata": {
        "execution": {
          "iopub.status.busy": "2022-07-14T12:22:58.950433Z",
          "iopub.execute_input": "2022-07-14T12:22:58.951340Z",
          "iopub.status.idle": "2022-07-14T12:22:59.152352Z",
          "shell.execute_reply.started": "2022-07-14T12:22:58.951306Z",
          "shell.execute_reply": "2022-07-14T12:22:59.151434Z"
        },
        "trusted": true,
        "id": "wfnf86Ts2XiL"
      },
      "execution_count": 100,
      "outputs": []
    },
    {
      "cell_type": "code",
      "source": [
        "data = data.sample(frac = 1, random_state = 7)\n",
        "print(len(data))"
      ],
      "metadata": {
        "execution": {
          "iopub.status.busy": "2022-07-14T12:22:59.153608Z",
          "iopub.execute_input": "2022-07-14T12:22:59.154561Z",
          "iopub.status.idle": "2022-07-14T12:22:59.171251Z",
          "shell.execute_reply.started": "2022-07-14T12:22:59.154515Z",
          "shell.execute_reply": "2022-07-14T12:22:59.169940Z"
        },
        "trusted": true,
        "colab": {
          "base_uri": "https://localhost:8080/"
        },
        "id": "z44Zzm7L2XiL",
        "outputId": "a106b9e7-e670-4112-9435-01e9b8bce8a6"
      },
      "execution_count": 101,
      "outputs": [
        {
          "output_type": "stream",
          "name": "stdout",
          "text": [
            "49582\n"
          ]
        }
      ]
    },
    {
      "cell_type": "code",
      "source": [
        "train = data[:30000]\n",
        "validation = data[30000:40000]\n",
        "test = data[40000:]"
      ],
      "metadata": {
        "execution": {
          "iopub.status.busy": "2022-07-14T12:22:59.172552Z",
          "iopub.execute_input": "2022-07-14T12:22:59.172983Z",
          "iopub.status.idle": "2022-07-14T12:22:59.178528Z",
          "shell.execute_reply.started": "2022-07-14T12:22:59.172951Z",
          "shell.execute_reply": "2022-07-14T12:22:59.177445Z"
        },
        "trusted": true,
        "id": "iU1cRPTT2XiL"
      },
      "execution_count": 102,
      "outputs": []
    },
    {
      "cell_type": "code",
      "source": [
        "del(data)"
      ],
      "metadata": {
        "id": "ya5ody3W1i_5"
      },
      "execution_count": 103,
      "outputs": []
    },
    {
      "cell_type": "code",
      "source": [
        "train.head()"
      ],
      "metadata": {
        "execution": {
          "iopub.status.busy": "2022-07-14T12:22:59.180257Z",
          "iopub.execute_input": "2022-07-14T12:22:59.180673Z",
          "iopub.status.idle": "2022-07-14T12:22:59.194831Z",
          "shell.execute_reply.started": "2022-07-14T12:22:59.180632Z",
          "shell.execute_reply": "2022-07-14T12:22:59.193691Z"
        },
        "trusted": true,
        "colab": {
          "base_uri": "https://localhost:8080/",
          "height": 206
        },
        "id": "lVHSwl4w2XiL",
        "outputId": "728d36de-c716-44a4-cef7-038413bb68f8"
      },
      "execution_count": 104,
      "outputs": [
        {
          "output_type": "execute_result",
          "data": {
            "text/plain": [
              "                                                  review sentiment\n",
              "20275  I think that this is a disappointing sequel. I...  negative\n",
              "19851  Uhhh ... so, did they even have writers for th...  negative\n",
              "6957   Critics are falling over themselves within the...  negative\n",
              "30980  This movie was very funny, I couldn't stop smi...  positive\n",
              "40220  Happened upon a copy of this. Not mine and if ...  negative"
            ],
            "text/html": [
              "\n",
              "  <div id=\"df-64b6126b-a049-41ff-85d5-ca87855f02ef\">\n",
              "    <div class=\"colab-df-container\">\n",
              "      <div>\n",
              "<style scoped>\n",
              "    .dataframe tbody tr th:only-of-type {\n",
              "        vertical-align: middle;\n",
              "    }\n",
              "\n",
              "    .dataframe tbody tr th {\n",
              "        vertical-align: top;\n",
              "    }\n",
              "\n",
              "    .dataframe thead th {\n",
              "        text-align: right;\n",
              "    }\n",
              "</style>\n",
              "<table border=\"1\" class=\"dataframe\">\n",
              "  <thead>\n",
              "    <tr style=\"text-align: right;\">\n",
              "      <th></th>\n",
              "      <th>review</th>\n",
              "      <th>sentiment</th>\n",
              "    </tr>\n",
              "  </thead>\n",
              "  <tbody>\n",
              "    <tr>\n",
              "      <th>20275</th>\n",
              "      <td>I think that this is a disappointing sequel. I...</td>\n",
              "      <td>negative</td>\n",
              "    </tr>\n",
              "    <tr>\n",
              "      <th>19851</th>\n",
              "      <td>Uhhh ... so, did they even have writers for th...</td>\n",
              "      <td>negative</td>\n",
              "    </tr>\n",
              "    <tr>\n",
              "      <th>6957</th>\n",
              "      <td>Critics are falling over themselves within the...</td>\n",
              "      <td>negative</td>\n",
              "    </tr>\n",
              "    <tr>\n",
              "      <th>30980</th>\n",
              "      <td>This movie was very funny, I couldn't stop smi...</td>\n",
              "      <td>positive</td>\n",
              "    </tr>\n",
              "    <tr>\n",
              "      <th>40220</th>\n",
              "      <td>Happened upon a copy of this. Not mine and if ...</td>\n",
              "      <td>negative</td>\n",
              "    </tr>\n",
              "  </tbody>\n",
              "</table>\n",
              "</div>\n",
              "      <button class=\"colab-df-convert\" onclick=\"convertToInteractive('df-64b6126b-a049-41ff-85d5-ca87855f02ef')\"\n",
              "              title=\"Convert this dataframe to an interactive table.\"\n",
              "              style=\"display:none;\">\n",
              "        \n",
              "  <svg xmlns=\"http://www.w3.org/2000/svg\" height=\"24px\"viewBox=\"0 0 24 24\"\n",
              "       width=\"24px\">\n",
              "    <path d=\"M0 0h24v24H0V0z\" fill=\"none\"/>\n",
              "    <path d=\"M18.56 5.44l.94 2.06.94-2.06 2.06-.94-2.06-.94-.94-2.06-.94 2.06-2.06.94zm-11 1L8.5 8.5l.94-2.06 2.06-.94-2.06-.94L8.5 2.5l-.94 2.06-2.06.94zm10 10l.94 2.06.94-2.06 2.06-.94-2.06-.94-.94-2.06-.94 2.06-2.06.94z\"/><path d=\"M17.41 7.96l-1.37-1.37c-.4-.4-.92-.59-1.43-.59-.52 0-1.04.2-1.43.59L10.3 9.45l-7.72 7.72c-.78.78-.78 2.05 0 2.83L4 21.41c.39.39.9.59 1.41.59.51 0 1.02-.2 1.41-.59l7.78-7.78 2.81-2.81c.8-.78.8-2.07 0-2.86zM5.41 20L4 18.59l7.72-7.72 1.47 1.35L5.41 20z\"/>\n",
              "  </svg>\n",
              "      </button>\n",
              "      \n",
              "  <style>\n",
              "    .colab-df-container {\n",
              "      display:flex;\n",
              "      flex-wrap:wrap;\n",
              "      gap: 12px;\n",
              "    }\n",
              "\n",
              "    .colab-df-convert {\n",
              "      background-color: #E8F0FE;\n",
              "      border: none;\n",
              "      border-radius: 50%;\n",
              "      cursor: pointer;\n",
              "      display: none;\n",
              "      fill: #1967D2;\n",
              "      height: 32px;\n",
              "      padding: 0 0 0 0;\n",
              "      width: 32px;\n",
              "    }\n",
              "\n",
              "    .colab-df-convert:hover {\n",
              "      background-color: #E2EBFA;\n",
              "      box-shadow: 0px 1px 2px rgba(60, 64, 67, 0.3), 0px 1px 3px 1px rgba(60, 64, 67, 0.15);\n",
              "      fill: #174EA6;\n",
              "    }\n",
              "\n",
              "    [theme=dark] .colab-df-convert {\n",
              "      background-color: #3B4455;\n",
              "      fill: #D2E3FC;\n",
              "    }\n",
              "\n",
              "    [theme=dark] .colab-df-convert:hover {\n",
              "      background-color: #434B5C;\n",
              "      box-shadow: 0px 1px 3px 1px rgba(0, 0, 0, 0.15);\n",
              "      filter: drop-shadow(0px 1px 2px rgba(0, 0, 0, 0.3));\n",
              "      fill: #FFFFFF;\n",
              "    }\n",
              "  </style>\n",
              "\n",
              "      <script>\n",
              "        const buttonEl =\n",
              "          document.querySelector('#df-64b6126b-a049-41ff-85d5-ca87855f02ef button.colab-df-convert');\n",
              "        buttonEl.style.display =\n",
              "          google.colab.kernel.accessAllowed ? 'block' : 'none';\n",
              "\n",
              "        async function convertToInteractive(key) {\n",
              "          const element = document.querySelector('#df-64b6126b-a049-41ff-85d5-ca87855f02ef');\n",
              "          const dataTable =\n",
              "            await google.colab.kernel.invokeFunction('convertToInteractive',\n",
              "                                                     [key], {});\n",
              "          if (!dataTable) return;\n",
              "\n",
              "          const docLinkHtml = 'Like what you see? Visit the ' +\n",
              "            '<a target=\"_blank\" href=https://colab.research.google.com/notebooks/data_table.ipynb>data table notebook</a>'\n",
              "            + ' to learn more about interactive tables.';\n",
              "          element.innerHTML = '';\n",
              "          dataTable['output_type'] = 'display_data';\n",
              "          await google.colab.output.renderOutput(dataTable, element);\n",
              "          const docLink = document.createElement('div');\n",
              "          docLink.innerHTML = docLinkHtml;\n",
              "          element.appendChild(docLink);\n",
              "        }\n",
              "      </script>\n",
              "    </div>\n",
              "  </div>\n",
              "  "
            ]
          },
          "metadata": {},
          "execution_count": 104
        }
      ]
    },
    {
      "cell_type": "code",
      "source": [
        "X_train, Y_train = DataPipeline(train, text_vectorizer, truncating = 'post')\n",
        "X_test, Y_test = DataPipeline(test, text_vectorizer,  truncating = 'post')\n",
        "X_val, Y_val = DataPipeline(validation, text_vectorizer,  truncating = 'post')"
      ],
      "metadata": {
        "execution": {
          "iopub.status.busy": "2022-07-14T12:27:06.400591Z",
          "iopub.execute_input": "2022-07-14T12:27:06.401495Z",
          "iopub.status.idle": "2022-07-14T12:27:47.135135Z",
          "shell.execute_reply.started": "2022-07-14T12:27:06.401448Z",
          "shell.execute_reply": "2022-07-14T12:27:47.133935Z"
        },
        "trusted": true,
        "id": "dscypaNV2XiL"
      },
      "execution_count": 105,
      "outputs": []
    },
    {
      "cell_type": "code",
      "source": [
        "print(X_train.shape, Y_train.shape)\n",
        "print(X_test.shape, Y_test.shape)\n",
        "print(X_val.shape, Y_val.shape)"
      ],
      "metadata": {
        "execution": {
          "iopub.status.busy": "2022-07-14T12:27:47.137129Z",
          "iopub.execute_input": "2022-07-14T12:27:47.137580Z",
          "iopub.status.idle": "2022-07-14T12:27:47.144133Z",
          "shell.execute_reply.started": "2022-07-14T12:27:47.137549Z",
          "shell.execute_reply": "2022-07-14T12:27:47.142673Z"
        },
        "trusted": true,
        "colab": {
          "base_uri": "https://localhost:8080/"
        },
        "id": "IwgXS4cK2XiM",
        "outputId": "97ccdf44-04b3-4c82-b23f-be5e74ffb68b"
      },
      "execution_count": 106,
      "outputs": [
        {
          "output_type": "stream",
          "name": "stdout",
          "text": [
            "(30000, 1024) (30000,)\n",
            "(9582, 1024) (9582,)\n",
            "(10000, 1024) (10000,)\n"
          ]
        }
      ]
    },
    {
      "cell_type": "code",
      "source": [
        "with open(\"X_train.npy\", \"wb\") as f:\n",
        "    np.save(f, X_train)\n",
        "    f.close()\n",
        "\n",
        "with open(\"X_test.npy\", \"wb\") as f:\n",
        "    np.save(f, X_test)\n",
        "    f.close()\n",
        "\n",
        "\n",
        "with open(\"Y_train.npy\", \"wb\") as f:\n",
        "    np.save(f, Y_train)\n",
        "    f.close()\n",
        "\n",
        "with open(\"Y_test.npy\", \"wb\") as f:\n",
        "    np.save(f, Y_test)\n",
        "    f.close()\n",
        "\n",
        "with open(\"X_val.npy\", \"wb\") as f:\n",
        "    np.save(f, X_val)\n",
        "    f.close()\n",
        "\n",
        "with open(\"Y_val.npy\", \"wb\") as f:\n",
        "    np.save(f, Y_val)\n",
        "    f.close()\n",
        "        "
      ],
      "metadata": {
        "id": "FWzWhBOmGQXW"
      },
      "execution_count": 107,
      "outputs": []
    },
    {
      "cell_type": "markdown",
      "source": [
        "<center> **a----------END-----------a** </center>"
      ],
      "metadata": {
        "id": "qttz4M2M8ipU"
      }
    }
  ]
}